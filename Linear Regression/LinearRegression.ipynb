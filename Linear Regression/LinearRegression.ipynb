{
 "cells": [
  {
   "cell_type": "code",
   "execution_count": 98,
   "metadata": {},
   "outputs": [],
   "source": [
    "import pandas as pd\n",
    "from pandas import read_csv\n",
    "import matplotlib.pyplot as plt\n",
    "from datetime import datetime\n",
    "import numpy as np\n",
    "\n",
    "# load dataset\n",
    "dataset = pd.read_csv('SimpleEnergyUsage.csv')\n"
   ]
  },
  {
   "cell_type": "code",
   "execution_count": 99,
   "metadata": {},
   "outputs": [
    {
     "data": {
      "text/html": [
       "<div>\n",
       "<style scoped>\n",
       "    .dataframe tbody tr th:only-of-type {\n",
       "        vertical-align: middle;\n",
       "    }\n",
       "\n",
       "    .dataframe tbody tr th {\n",
       "        vertical-align: top;\n",
       "    }\n",
       "\n",
       "    .dataframe thead th {\n",
       "        text-align: right;\n",
       "    }\n",
       "</style>\n",
       "<table border=\"1\" class=\"dataframe\">\n",
       "  <thead>\n",
       "    <tr style=\"text-align: right;\">\n",
       "      <th></th>\n",
       "      <th>Date</th>\n",
       "      <th>National Avg Temp (F)</th>\n",
       "      <th>NG ($/MSCF)</th>\n",
       "      <th>US Crude Price ($/BBL)</th>\n",
       "      <th>Electricity ($/kWh)</th>\n",
       "      <th>US Petroleum Products (Million Barrels)</th>\n",
       "      <th>Electrical Generation (Billion Kilowatthours)</th>\n",
       "      <th>U.S. Natural Usage (BCF)</th>\n",
       "    </tr>\n",
       "  </thead>\n",
       "  <tbody>\n",
       "    <tr>\n",
       "      <th>0</th>\n",
       "      <td>1/1/1981</td>\n",
       "      <td>32.4</td>\n",
       "      <td>3.94</td>\n",
       "      <td>28.81</td>\n",
       "      <td>0.053</td>\n",
       "      <td>571.321</td>\n",
       "      <td>413.516410</td>\n",
       "      <td>1890</td>\n",
       "    </tr>\n",
       "    <tr>\n",
       "      <th>1</th>\n",
       "      <td>2/1/1981</td>\n",
       "      <td>34.5</td>\n",
       "      <td>3.99</td>\n",
       "      <td>34.30</td>\n",
       "      <td>0.055</td>\n",
       "      <td>475.689</td>\n",
       "      <td>359.719821</td>\n",
       "      <td>1702</td>\n",
       "    </tr>\n",
       "    <tr>\n",
       "      <th>2</th>\n",
       "      <td>3/1/1981</td>\n",
       "      <td>37.3</td>\n",
       "      <td>4.06</td>\n",
       "      <td>34.59</td>\n",
       "      <td>0.056</td>\n",
       "      <td>493.111</td>\n",
       "      <td>371.667764</td>\n",
       "      <td>1871</td>\n",
       "    </tr>\n",
       "    <tr>\n",
       "      <th>3</th>\n",
       "      <td>4/1/1981</td>\n",
       "      <td>41.7</td>\n",
       "      <td>4.11</td>\n",
       "      <td>33.92</td>\n",
       "      <td>0.056</td>\n",
       "      <td>460.490</td>\n",
       "      <td>345.682684</td>\n",
       "      <td>1808</td>\n",
       "    </tr>\n",
       "    <tr>\n",
       "      <th>4</th>\n",
       "      <td>5/1/1981</td>\n",
       "      <td>45.2</td>\n",
       "      <td>4.29</td>\n",
       "      <td>32.73</td>\n",
       "      <td>0.058</td>\n",
       "      <td>475.943</td>\n",
       "      <td>356.277107</td>\n",
       "      <td>1838</td>\n",
       "    </tr>\n",
       "  </tbody>\n",
       "</table>\n",
       "</div>"
      ],
      "text/plain": [
       "       Date  National Avg Temp (F)  NG ($/MSCF)  US Crude Price ($/BBL)  \\\n",
       "0  1/1/1981                   32.4         3.94                   28.81   \n",
       "1  2/1/1981                   34.5         3.99                   34.30   \n",
       "2  3/1/1981                   37.3         4.06                   34.59   \n",
       "3  4/1/1981                   41.7         4.11                   33.92   \n",
       "4  5/1/1981                   45.2         4.29                   32.73   \n",
       "\n",
       "   Electricity ($/kWh)  US Petroleum Products (Million Barrels)  \\\n",
       "0                0.053                                  571.321   \n",
       "1                0.055                                  475.689   \n",
       "2                0.056                                  493.111   \n",
       "3                0.056                                  460.490   \n",
       "4                0.058                                  475.943   \n",
       "\n",
       "   Electrical Generation (Billion Kilowatthours)  U.S. Natural Usage (BCF)  \n",
       "0                                     413.516410                      1890  \n",
       "1                                     359.719821                      1702  \n",
       "2                                     371.667764                      1871  \n",
       "3                                     345.682684                      1808  \n",
       "4                                     356.277107                      1838  "
      ]
     },
     "execution_count": 99,
     "metadata": {},
     "output_type": "execute_result"
    }
   ],
   "source": [
    "dataset.head()"
   ]
  },
  {
   "cell_type": "code",
   "execution_count": 100,
   "metadata": {},
   "outputs": [
    {
     "data": {
      "text/html": [
       "<div>\n",
       "<style scoped>\n",
       "    .dataframe tbody tr th:only-of-type {\n",
       "        vertical-align: middle;\n",
       "    }\n",
       "\n",
       "    .dataframe tbody tr th {\n",
       "        vertical-align: top;\n",
       "    }\n",
       "\n",
       "    .dataframe thead th {\n",
       "        text-align: right;\n",
       "    }\n",
       "</style>\n",
       "<table border=\"1\" class=\"dataframe\">\n",
       "  <thead>\n",
       "    <tr style=\"text-align: right;\">\n",
       "      <th></th>\n",
       "      <th>Date</th>\n",
       "      <th>National Avg Temp (F)</th>\n",
       "      <th>NG ($/MSCF)</th>\n",
       "      <th>US Crude Price ($/BBL)</th>\n",
       "      <th>Electricity ($/kWh)</th>\n",
       "      <th>US Petroleum Products (Million Barrels)</th>\n",
       "      <th>Electrical Generation (Billion Kilowatthours)</th>\n",
       "      <th>U.S. Natural Usage (BCF)</th>\n",
       "      <th>year</th>\n",
       "      <th>month</th>\n",
       "    </tr>\n",
       "  </thead>\n",
       "  <tbody>\n",
       "    <tr>\n",
       "      <th>449</th>\n",
       "      <td>2018-06-01</td>\n",
       "      <td>49.4</td>\n",
       "      <td>16.51</td>\n",
       "      <td>62.80</td>\n",
       "      <td>0.142</td>\n",
       "      <td>621.160</td>\n",
       "      <td>743.661142</td>\n",
       "      <td>2955</td>\n",
       "      <td>2018</td>\n",
       "      <td>6</td>\n",
       "    </tr>\n",
       "    <tr>\n",
       "      <th>450</th>\n",
       "      <td>2018-07-01</td>\n",
       "      <td>53.1</td>\n",
       "      <td>17.92</td>\n",
       "      <td>67.00</td>\n",
       "      <td>0.143</td>\n",
       "      <td>639.261</td>\n",
       "      <td>823.648759</td>\n",
       "      <td>3108</td>\n",
       "      <td>2018</td>\n",
       "      <td>7</td>\n",
       "    </tr>\n",
       "    <tr>\n",
       "      <th>451</th>\n",
       "      <td>2018-08-01</td>\n",
       "      <td>55.7</td>\n",
       "      <td>18.63</td>\n",
       "      <td>62.64</td>\n",
       "      <td>0.142</td>\n",
       "      <td>660.371</td>\n",
       "      <td>819.962135</td>\n",
       "      <td>3180</td>\n",
       "      <td>2018</td>\n",
       "      <td>8</td>\n",
       "    </tr>\n",
       "    <tr>\n",
       "      <th>452</th>\n",
       "      <td>2018-09-01</td>\n",
       "      <td>57.0</td>\n",
       "      <td>17.32</td>\n",
       "      <td>63.55</td>\n",
       "      <td>0.142</td>\n",
       "      <td>598.542</td>\n",
       "      <td>712.675051</td>\n",
       "      <td>3135</td>\n",
       "      <td>2018</td>\n",
       "      <td>9</td>\n",
       "    </tr>\n",
       "    <tr>\n",
       "      <th>453</th>\n",
       "      <td>2018-10-01</td>\n",
       "      <td>56.7</td>\n",
       "      <td>12.26</td>\n",
       "      <td>65.18</td>\n",
       "      <td>0.137</td>\n",
       "      <td>643.980</td>\n",
       "      <td>649.800520</td>\n",
       "      <td>3273</td>\n",
       "      <td>2018</td>\n",
       "      <td>10</td>\n",
       "    </tr>\n",
       "  </tbody>\n",
       "</table>\n",
       "</div>"
      ],
      "text/plain": [
       "          Date  National Avg Temp (F)  NG ($/MSCF)  US Crude Price ($/BBL)  \\\n",
       "449 2018-06-01                   49.4        16.51                   62.80   \n",
       "450 2018-07-01                   53.1        17.92                   67.00   \n",
       "451 2018-08-01                   55.7        18.63                   62.64   \n",
       "452 2018-09-01                   57.0        17.32                   63.55   \n",
       "453 2018-10-01                   56.7        12.26                   65.18   \n",
       "\n",
       "     Electricity ($/kWh)  US Petroleum Products (Million Barrels)  \\\n",
       "449                0.142                                  621.160   \n",
       "450                0.143                                  639.261   \n",
       "451                0.142                                  660.371   \n",
       "452                0.142                                  598.542   \n",
       "453                0.137                                  643.980   \n",
       "\n",
       "     Electrical Generation (Billion Kilowatthours)  U.S. Natural Usage (BCF)  \\\n",
       "449                                     743.661142                      2955   \n",
       "450                                     823.648759                      3108   \n",
       "451                                     819.962135                      3180   \n",
       "452                                     712.675051                      3135   \n",
       "453                                     649.800520                      3273   \n",
       "\n",
       "     year  month  \n",
       "449  2018      6  \n",
       "450  2018      7  \n",
       "451  2018      8  \n",
       "452  2018      9  \n",
       "453  2018     10  "
      ]
     },
     "execution_count": 100,
     "metadata": {},
     "output_type": "execute_result"
    }
   ],
   "source": [
    "#format dates and drop null values\n",
    "\n",
    "dataset['Date'] = pd.to_datetime(dataset['Date'])\n",
    "dataset['year'] = pd.DatetimeIndex(dataset['Date']).year\n",
    "dataset['month'] = pd.DatetimeIndex(dataset['Date']).month\n",
    "dataset = dataset.dropna()\n",
    "dataset.tail()\n"
   ]
  },
  {
   "cell_type": "code",
   "execution_count": 101,
   "metadata": {},
   "outputs": [
    {
     "name": "stdout",
     "output_type": "stream",
     "text": [
      "(454, 8) (454, 1)\n"
     ]
    }
   ],
   "source": [
    " # Assign X (data) and y (target)\n",
    "\n",
    "X = dataset[['year', 'month','National Avg Temp (F)', 'NG ($/MSCF)', 'US Crude Price ($/BBL)', 'Electricity ($/kWh)', 'Electrical Generation (Billion Kilowatthours)','U.S. Natural Usage (BCF)']]\n",
    "y = dataset['US Petroleum Products (Million Barrels)'].values.reshape(-1,1)\n",
    "\n",
    "print(X.shape, y.shape)"
   ]
  },
  {
   "cell_type": "code",
   "execution_count": 102,
   "metadata": {},
   "outputs": [],
   "source": [
    "# Split the data into training and testing\n",
    "\n",
    "from sklearn.model_selection import train_test_split\n",
    "\n",
    "X_train, X_test, y_train, y_test = train_test_split(X, y, shuffle = True, random_state=42)"
   ]
  },
  {
   "cell_type": "code",
   "execution_count": 103,
   "metadata": {},
   "outputs": [
    {
     "data": {
      "text/plain": [
       "LinearRegression(copy_X=True, fit_intercept=True, n_jobs=None,\n",
       "         normalize=False)"
      ]
     },
     "execution_count": 103,
     "metadata": {},
     "output_type": "execute_result"
    }
   ],
   "source": [
    "#initiate and fit the model\n",
    "from sklearn.linear_model import LinearRegression\n",
    "model = LinearRegression()\n",
    "model.fit(X_train, y_train)"
   ]
  },
  {
   "cell_type": "code",
   "execution_count": 104,
   "metadata": {},
   "outputs": [
    {
     "data": {
      "image/png": "[encoded data removed]",
      "text/plain": [
       "<Figure size 432x288 with 1 Axes>"
      ]
     },
     "metadata": {
      "needs_background": "light"
     },
     "output_type": "display_data"
    }
   ],
   "source": [
    "# plot residuals of the predictions\n",
    "from sklearn.metrics import mean_squared_error\n",
    "\n",
    "predictions = model.predict(X_test)\n",
    "model.fit(X_train, y_train)\n",
    "plt.scatter(model.predict(X_train), model.predict(X_train) - y_train, c=\"cyan\", label=\"Training Data\")\n",
    "plt.scatter(model.predict(X_test), model.predict(X_test) - y_test, c=\"blue\", label=\"Testing Data\")\n",
    "plt.legend()\n",
    "plt.title(\"Petroleum Residual Plot\")\n",
    "plt.savefig('Petroleum Residual Plot.jpg')\n",
    "plt.show()\n"
   ]
  },
  {
   "cell_type": "code",
   "execution_count": 105,
   "metadata": {},
   "outputs": [
    {
     "data": {
      "text/html": [
       "<div>\n",
       "<style scoped>\n",
       "    .dataframe tbody tr th:only-of-type {\n",
       "        vertical-align: middle;\n",
       "    }\n",
       "\n",
       "    .dataframe tbody tr th {\n",
       "        vertical-align: top;\n",
       "    }\n",
       "\n",
       "    .dataframe thead th {\n",
       "        text-align: right;\n",
       "    }\n",
       "</style>\n",
       "<table border=\"1\" class=\"dataframe\">\n",
       "  <thead>\n",
       "    <tr style=\"text-align: right;\">\n",
       "      <th></th>\n",
       "      <th>Feature</th>\n",
       "      <th>Coef</th>\n",
       "    </tr>\n",
       "  </thead>\n",
       "  <tbody>\n",
       "    <tr>\n",
       "      <th>0</th>\n",
       "      <td>year</td>\n",
       "      <td>4.943153</td>\n",
       "    </tr>\n",
       "    <tr>\n",
       "      <th>1</th>\n",
       "      <td>month</td>\n",
       "      <td>3.663229</td>\n",
       "    </tr>\n",
       "    <tr>\n",
       "      <th>2</th>\n",
       "      <td>National Avg Temp (F)</td>\n",
       "      <td>-0.770438</td>\n",
       "    </tr>\n",
       "    <tr>\n",
       "      <th>3</th>\n",
       "      <td>NG ($/MSCF)</td>\n",
       "      <td>3.022959</td>\n",
       "    </tr>\n",
       "    <tr>\n",
       "      <th>4</th>\n",
       "      <td>US Crude Price ($/BBL)</td>\n",
       "      <td>-0.249099</td>\n",
       "    </tr>\n",
       "    <tr>\n",
       "      <th>5</th>\n",
       "      <td>Electricity ($/kWh)</td>\n",
       "      <td>-2488.698673</td>\n",
       "    </tr>\n",
       "    <tr>\n",
       "      <th>6</th>\n",
       "      <td>Electrical Generation (Billion Kilowatthours)</td>\n",
       "      <td>0.251000</td>\n",
       "    </tr>\n",
       "    <tr>\n",
       "      <th>7</th>\n",
       "      <td>U.S. Natural Usage (BCF)</td>\n",
       "      <td>0.030049</td>\n",
       "    </tr>\n",
       "  </tbody>\n",
       "</table>\n",
       "</div>"
      ],
      "text/plain": [
       "                                         Feature         Coef\n",
       "0                                           year     4.943153\n",
       "1                                          month     3.663229\n",
       "2                          National Avg Temp (F)    -0.770438\n",
       "3                                    NG ($/MSCF)     3.022959\n",
       "4                         US Crude Price ($/BBL)    -0.249099\n",
       "5                            Electricity ($/kWh) -2488.698673\n",
       "6  Electrical Generation (Billion Kilowatthours)     0.251000\n",
       "7                       U.S. Natural Usage (BCF)     0.030049"
      ]
     },
     "execution_count": 105,
     "metadata": {},
     "output_type": "execute_result"
    }
   ],
   "source": [
    "#show model feature coefficients\n",
    "model.coef_\n",
    "petrol_coef = pd.concat([pd.DataFrame(X.columns, columns = ['Feature']),pd.DataFrame(np.transpose(model.coef_), columns=['Coef'])], axis = 1)\n",
    "petrol_intercept = model.intercept_\n",
    "petrol_coef"
   ]
  },
  {
   "cell_type": "code",
   "execution_count": 106,
   "metadata": {},
   "outputs": [],
   "source": [
    "#generate forecast values array and future forecasts array\n",
    "coefArr=np.array(petrol_coef['Coef'])\n",
    "newX = X.loc[430:454]\n",
    "newForecasts = []\n",
    "\n",
    "for j in range(len(newX)):\n",
    "    j += 430\n",
    "    newX_row = np.array(newX.loc[j])\n",
    "    newfcst = newX_row.dot(coefArr)+petrol_intercept\n",
    "    newForecasts.append(newfcst)\n"
   ]
  },
  {
   "cell_type": "code",
   "execution_count": 107,
   "metadata": {},
   "outputs": [
    {
     "data": {
      "image/png": "[encoded data removed]",
      "text/plain": [
       "<Figure size 432x288 with 1 Axes>"
      ]
     },
     "metadata": {
      "needs_background": "light"
     },
     "output_type": "display_data"
    },
    {
     "name": "stdout",
     "output_type": "stream",
     "text": [
      "MSE: 305.9690320612286, R2: 0.9012314629976216\n"
     ]
    }
   ],
   "source": [
    "#Plot Petroleum Forecast\n",
    "futuredates = np.arange('2017-11', '2019-11', dtype='datetime64[M]')\n",
    "dates = dataset['Date'].loc[442:454]\n",
    "\n",
    "plt.plot(dates,y[442:454], c='cyan', label = \"Actuals\")\n",
    "plt.plot(futuredates, newForecasts, c=\"blue\", label=\"Forecast\")\n",
    "plt.legend()\n",
    "plt.title(\"Petroleum Forecast vs Actuals\")\n",
    "plt.savefig('Petroleum Forecast vs Actuals.jpg')\n",
    "plt.show()\n",
    "\n",
    "\n",
    "MSE = mean_squared_error(y_test, predictions)\n",
    "r2 = model.score(X_test, y_test)\n",
    "\n",
    "print(f\"MSE: {MSE}, R2: {r2}\")"
   ]
  },
  {
   "cell_type": "code",
   "execution_count": 108,
   "metadata": {},
   "outputs": [],
   "source": [
    "#Create dataframe of predicted versus actual values\n",
    "petrol_predicted_df = pd.DataFrame(newForecasts,futuredates, columns =['Predicted US Petroleum Products (Million Barrels)'])\n",
    "petrol_actual_df = pd.DataFrame(y[442:454],dates, columns =['Actual US Petroleum Products (Million Barrels)'])\n",
    "joineddf = petrol_actual_df.join(petrol_predicted_df, on='Date', how = 'outer')\n",
    "petrol_df = joineddf.tail(24)\n",
    "petrol_df\n",
    "\n",
    "#save as csv\n",
    "petrol_df.to_csv('petrol.csv')"
   ]
  },
  {
   "cell_type": "code",
   "execution_count": 109,
   "metadata": {},
   "outputs": [
    {
     "data": {
      "text/plain": [
       "LinearRegression(copy_X=True, fit_intercept=True, n_jobs=None,\n",
       "         normalize=False)"
      ]
     },
     "execution_count": 109,
     "metadata": {},
     "output_type": "execute_result"
    }
   ],
   "source": [
    "#Natuarl Gas Forecast\n",
    "X_ng = dataset[['year', 'month','National Avg Temp (F)', 'NG ($/MSCF)', 'US Crude Price ($/BBL)', 'Electricity ($/kWh)', 'Electrical Generation (Billion Kilowatthours)','US Petroleum Products (Million Barrels)']]\n",
    "y_ng = dataset['U.S. Natural Usage (BCF)'].values.reshape(-1,1)\n",
    "\n",
    "Xng_train, Xng_test, yng_train, yng_test = train_test_split(X_ng, y_ng, shuffle = True, random_state=40)\n",
    "\n",
    "ng_model = LinearRegression()\n",
    "ng_model.fit(Xng_train, yng_train)"
   ]
  },
  {
   "cell_type": "code",
   "execution_count": 110,
   "metadata": {},
   "outputs": [
    {
     "data": {
      "image/png": "[encoded data removed]",
      "text/plain": [
       "<Figure size 432x288 with 1 Axes>"
      ]
     },
     "metadata": {
      "needs_background": "light"
     },
     "output_type": "display_data"
    }
   ],
   "source": [
    "# plot residuals of the predictions\n",
    "predictions_ng = ng_model.predict(Xng_test)\n",
    "ng_model.fit(Xng_train, yng_train)\n",
    "plt.scatter(ng_model.predict(Xng_train), ng_model.predict(Xng_train) - yng_train, c=\"cyan\", label=\"Training Data\")\n",
    "plt.scatter(ng_model.predict(Xng_test), ng_model.predict(Xng_test) - yng_test, c=\"blue\", label=\"Testing Data\")\n",
    "plt.legend()\n",
    "plt.title(\"Natural Gas Residual Plot\")\n",
    "plt.savefig('Natural Gas Residual Plot.jpg')\n",
    "plt.show()\n"
   ]
  },
  {
   "cell_type": "code",
   "execution_count": 111,
   "metadata": {},
   "outputs": [],
   "source": [
    "#show model feature coefficients\n",
    "ng_model.coef_\n",
    "ng_coef = pd.concat([pd.DataFrame(X_ng.columns, columns = ['Feature']),pd.DataFrame(np.transpose(ng_model.coef_), columns=['Coef'])], axis = 1)\n",
    "ng_intercept = ng_model.intercept_"
   ]
  },
  {
   "cell_type": "code",
   "execution_count": 112,
   "metadata": {},
   "outputs": [],
   "source": [
    "#generate forecast values array and future forecasts array\n",
    "ng_coefArr=np.array(ng_coef['Coef'])\n",
    "newX_ng = X_ng.loc[430:454]\n",
    "newForecasts_ng = []\n",
    "\n",
    "for j in range(len(newX_ng)):\n",
    "    j += 430\n",
    "    newX_ng_row = np.array(newX_ng.loc[j])\n",
    "    newfcst_ng = newX_ng_row.dot(ng_coefArr)+ng_intercept\n",
    "    newForecasts_ng.append(newfcst_ng)"
   ]
  },
  {
   "cell_type": "code",
   "execution_count": 113,
   "metadata": {},
   "outputs": [
    {
     "data": {
      "image/png": "[encoded data removed]",
      "text/plain": [
       "<Figure size 432x288 with 1 Axes>"
      ]
     },
     "metadata": {
      "needs_background": "light"
     },
     "output_type": "display_data"
    },
    {
     "name": "stdout",
     "output_type": "stream",
     "text": [
      "MSE: 22210.451974870193, R2: 0.8192007560262039\n"
     ]
    }
   ],
   "source": [
    "#Plot Natural Gas Forecast\n",
    "plt.plot(dates,y_ng[442:454], c='cyan', label = \"Actuals\")\n",
    "plt.plot(futuredates, newForecasts_ng, c=\"blue\", label=\"Forecast\")\n",
    "plt.legend()\n",
    "plt.title(\"Natural Gas Forecast vs Actuals\")\n",
    "plt.savefig('Natural Gas Forecast vs Actuals.jpg')\n",
    "plt.show()\n",
    "\n",
    "\n",
    "MSE_ng = mean_squared_error(yng_test, predictions_ng)\n",
    "r2_ng = ng_model.score(Xng_test, yng_test)\n",
    "\n",
    "print(f\"MSE: {MSE_ng}, R2: {r2_ng}\")"
   ]
  },
  {
   "cell_type": "code",
   "execution_count": 114,
   "metadata": {},
   "outputs": [],
   "source": [
    "#Create dataframe of predicted versus actual values\n",
    "ng_predicted_df = pd.DataFrame(newForecasts_ng,futuredates, columns =['Predicted U.S. Natural Usage (BCF)'])\n",
    "ng_actual_df = pd.DataFrame(y_ng[442:454],dates, columns =['Actual U.S. Natural Usage (BCF)'])\n",
    "ng_joineddf = ng_actual_df.join(ng_predicted_df, on='Date', how = 'outer')\n",
    "ng_df = ng_joineddf.tail(24)\n",
    "ng_df\n",
    "\n",
    "#save as csv\n",
    "ng_df.to_csv('ng.csv')"
   ]
  },
  {
   "cell_type": "code",
   "execution_count": 115,
   "metadata": {},
   "outputs": [
    {
     "data": {
      "text/plain": [
       "LinearRegression(copy_X=True, fit_intercept=True, n_jobs=None,\n",
       "         normalize=False)"
      ]
     },
     "execution_count": 115,
     "metadata": {},
     "output_type": "execute_result"
    }
   ],
   "source": [
    "#Electricity Forecast\n",
    "X_elc = dataset[['year', 'month','National Avg Temp (F)', 'NG ($/MSCF)', 'US Crude Price ($/BBL)', 'U.S. Natural Usage (BCF)','Electricity ($/kWh)','US Petroleum Products (Million Barrels)']]\n",
    "y_elc = dataset['Electrical Generation (Billion Kilowatthours)'].values.reshape(-1,1)\n",
    "\n",
    "Xelc_train, Xelc_test, yelc_train, yelc_test = train_test_split(X_elc, y_elc, shuffle = True, random_state=42)\n",
    "\n",
    "elc_model = LinearRegression()\n",
    "elc_model.fit(Xelc_train, yelc_train)"
   ]
  },
  {
   "cell_type": "code",
   "execution_count": 116,
   "metadata": {},
   "outputs": [
    {
     "data": {
      "image/png": "[encoded data removed]",
      "text/plain": [
       "<Figure size 432x288 with 1 Axes>"
      ]
     },
     "metadata": {
      "needs_background": "light"
     },
     "output_type": "display_data"
    }
   ],
   "source": [
    "# plot residuals of the predictions\n",
    "predictions_elc = elc_model.predict(Xelc_test)\n",
    "elc_model.fit(Xelc_train, yelc_train)\n",
    "plt.scatter(elc_model.predict(Xelc_train), elc_model.predict(Xelc_train) - yelc_train, c=\"cyan\", label=\"Training Data\")\n",
    "plt.scatter(elc_model.predict(Xelc_test), elc_model.predict(Xelc_test) - yelc_test, c=\"blue\", label=\"Testing Data\")\n",
    "plt.legend()\n",
    "plt.title(\"Electricity Residual Plot\")\n",
    "plt.savefig('Electricity Residual Plot.jpg')\n",
    "plt.show()\n"
   ]
  },
  {
   "cell_type": "code",
   "execution_count": 117,
   "metadata": {},
   "outputs": [],
   "source": [
    "#show model feature coefficients\n",
    "elc_model.coef_\n",
    "elc_coef = pd.concat([pd.DataFrame(X_elc.columns, columns = ['Feature']),pd.DataFrame(np.transpose(elc_model.coef_), columns=['Coef'])], axis = 1)\n",
    "elc_intercept = elc_model.intercept_"
   ]
  },
  {
   "cell_type": "code",
   "execution_count": 118,
   "metadata": {},
   "outputs": [],
   "source": [
    "#generate forecast values array and future forecasts array\n",
    "elc_coefArr=np.array(elc_coef['Coef'])\n",
    "newX_elc = X_elc.loc[430:454]\n",
    "newForecasts_elc = []\n",
    "\n",
    "for j in range(len(newX_elc)):\n",
    "    j += 430\n",
    "    newX_elc_row = np.array(newX_elc.loc[j])\n",
    "    newfcst_elc = newX_elc_row.dot(elc_coefArr)+elc_intercept\n",
    "    newForecasts_elc.append(newfcst_elc)"
   ]
  },
  {
   "cell_type": "code",
   "execution_count": 119,
   "metadata": {},
   "outputs": [
    {
     "data": {
      "image/png": "[encoded data removed]",
      "text/plain": [
       "<Figure size 432x288 with 1 Axes>"
      ]
     },
     "metadata": {
      "needs_background": "light"
     },
     "output_type": "display_data"
    },
    {
     "name": "stdout",
     "output_type": "stream",
     "text": [
      "MSE: 1633.231678811085, R2: 0.8766493990950038\n"
     ]
    }
   ],
   "source": [
    "#Plot Electricity Forecast\n",
    "plt.plot(dates,y_elc[442:454], c='cyan', label = \"Actuals\")\n",
    "plt.plot(futuredates, newForecasts_elc, c=\"blue\", label=\"Forecast\")\n",
    "plt.legend()\n",
    "plt.title(\"Electricity Forecast vs Actuals\")\n",
    "plt.savefig('Electricity Forecast vs Actuals.jpg')\n",
    "plt.show()\n",
    "\n",
    "MSE_elc = mean_squared_error(yelc_test, predictions_elc)\n",
    "r2_elc = elc_model.score(Xelc_test, yelc_test)\n",
    "\n",
    "print(f\"MSE: {MSE_elc}, R2: {r2_elc}\")"
   ]
  },
  {
   "cell_type": "code",
   "execution_count": 120,
   "metadata": {},
   "outputs": [],
   "source": [
    "#Create dataframe of predicted versus actual values\n",
    "elc_predicted_df = pd.DataFrame(newForecasts_elc,futuredates, columns =['Predicted Electrical Generation (Billion Kilowatthours)'])\n",
    "elc_actual_df = pd.DataFrame(y_elc[442:454],dates, columns =['Actual Electrical Generation (Billion Kilowatthours)'])\n",
    "elc_joineddf = elc_actual_df.join(elc_predicted_df, on='Date', how = 'outer')\n",
    "elc_df = elc_joineddf.tail(24)\n",
    "elc_df\n",
    "\n",
    "#save as csv\n",
    "elc_df.to_csv('elc.csv')"
   ]
  }
 ],
 "metadata": {
  "kernelspec": {
   "display_name": "Python 3",
   "language": "python",
   "name": "python3"
  },
  "language_info": {
   "codemirror_mode": {
    "name": "ipython",
    "version": 3
   },
   "file_extension": ".py",
   "mimetype": "text/x-python",
   "name": "python",
   "nbconvert_exporter": "python",
   "pygments_lexer": "ipython3",
   "version": "3.6.7"
  }
 },
 "nbformat": 4,
 "nbformat_minor": 2
}
